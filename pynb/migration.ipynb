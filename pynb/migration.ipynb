{
 "cells": [
  {
   "cell_type": "raw",
   "id": "cbcc4fd4",
   "metadata": {},
   "source": [
    "在'/home/sheng/zscd/previous/20200801/sac'目录下，粗略地拾取了T分量S波到时，接下来直接把到时迁移到其他滤波的数据。"
   ]
  },
  {
   "cell_type": "code",
   "execution_count": 12,
   "id": "56552d6e",
   "metadata": {},
   "outputs": [],
   "source": [
    "import os\n",
    "import sys\n",
    "import glob\n",
    "import obspy\n",
    "\n",
    "init_dir = os.getcwd()\n",
    "\n",
    "def migrate_S_travel(dirname, fnames):\n",
    "    if os.path.exists(dirname):\n",
    "        os.chdir(dirname)\n",
    "    else:\n",
    "        sys.exit('No such dir: %s!' % dirname)\n",
    "    for fname in glob.glob(fnames):\n",
    "        fpath = '/home/sheng/zscd/previous/20200801/sac/' + fname\n",
    "        if not os.path.exists(fpath):\n",
    "            print('No %s' % fpath)\n",
    "            os.unlink(fname)\n",
    "            continue\n",
    "        tr0 = obspy.read(fpath)[0]\n",
    "        tr = obspy.read(fname)[0]\n",
    "        tr.stats.sac['t3'] = tr0.stats.sac['t3']\n",
    "        tr.stats.sac['kt3'] = tr0.stats.sac['kt3']\n",
    "        tr.write(fname, format='SAC')\n",
    "    \n",
    "    return"
   ]
  },
  {
   "cell_type": "code",
   "execution_count": 2,
   "id": "2a9a04ae",
   "metadata": {},
   "outputs": [],
   "source": [
    "\n",
    "migrate_S_travel(dirname='/home/sheng/zscd/previous/20200801/sac1', \n",
    "                 fnames='*BHT')\n",
    "\n",
    "os.chdir(init_dir)"
   ]
  },
  {
   "cell_type": "raw",
   "id": "b8682b59",
   "metadata": {},
   "source": [
    "如果已经完成上面迁移S波到时，下面的脚本则是帮助解决同目录下R分量S波到时拾取，并把其极性取反"
   ]
  },
  {
   "cell_type": "code",
   "execution_count": 15,
   "id": "6678259f",
   "metadata": {},
   "outputs": [],
   "source": [
    "def align_R_to_T(dirname, fnames):\n",
    "    if os.path.exists(dirname):\n",
    "        os.chdir(dirname)\n",
    "    else:\n",
    "        sys.exit('No such dir: %s!' % dirname)\n",
    "    mul = -1.0\n",
    "    for fname in glob.glob(fnames):\n",
    "        trR = obspy.read(fname)[0]\n",
    "        T = '.'.join(fname.split('.')[:-1]) + '.BHT'\n",
    "        if os.path.exists(T):\n",
    "            trT = obspy.read(T)[0]\n",
    "            \n",
    "            trR.stats.sac['kt3'] = trT.stats.sac['kt3']\n",
    "            trR.stats.sac['t3'] = trT.stats.sac['t3']\n",
    "            trR.write(fname, format='SAC')\n",
    "            \n",
    "            trR = obspy.read(fname)[0]\n",
    "            trR.data = trR.data * mul\n",
    "            R = '.'.join(fname.split('.')[:-1]) + '.R'\n",
    "            trR.write(R, format='SAC')\n",
    "        else:\n",
    "            print('rm %s due to no %s' % (fname, T))\n",
    "            os.unlink(fname)\n",
    "    \n",
    "    return"
   ]
  },
  {
   "cell_type": "code",
   "execution_count": 16,
   "id": "6ff16836",
   "metadata": {},
   "outputs": [
    {
     "name": "stdout",
     "output_type": "stream",
     "text": [
      "rm 2020.214.17.18.20.000.AV.RDJH..BHR due to no 2020.214.17.18.20.000.AV.RDJH..BHT\n",
      "rm 2020.214.17.18.18.000.TA.I20K..BHR due to no 2020.214.17.18.18.000.TA.I20K..BHT\n",
      "rm 2020.214.17.18.29.000.AK.TOLK..BHR due to no 2020.214.17.18.29.000.AK.TOLK..BHT\n",
      "rm 2020.214.17.16.52.000.AV.TAPA..BHR due to no 2020.214.17.16.52.000.AV.TAPA..BHT\n",
      "rm 2020.214.17.19.07.000.AK.S32K..BHR due to no 2020.214.17.19.07.000.AK.S32K..BHT\n",
      "rm 2020.214.17.16.59.000.AV.GSIG..BHR due to no 2020.214.17.16.59.000.AV.GSIG..BHT\n",
      "rm 2020.214.17.19.07.000.AK.R32K..BHR due to no 2020.214.17.19.07.000.AK.R32K..BHT\n",
      "rm 2020.214.17.18.18.000.AK.L20K..BHR due to no 2020.214.17.18.18.000.AK.L20K..BHT\n",
      "rm 2020.214.17.18.19.000.AV.AUJK..BHR due to no 2020.214.17.18.19.000.AV.AUJK..BHT\n",
      "rm 2020.214.17.18.23.000.AV.SPCG..BHR due to no 2020.214.17.18.23.000.AV.SPCG..BHT\n",
      "rm 2020.214.17.18.27.000.TA.M22K..BHR due to no 2020.214.17.18.27.000.TA.M22K..BHT\n",
      "rm 2020.214.17.17.29.000.AK.P08K..BHR due to no 2020.214.17.17.29.000.AK.P08K..BHT\n",
      "rm 2020.214.17.18.29.008.AK.BWN..BHR due to no 2020.214.17.18.29.008.AK.BWN..BHT\n",
      "rm 2020.214.17.18.46.008.AK.BAL..BHR due to no 2020.214.17.18.46.008.AK.BAL..BHT\n",
      "rm 2020.214.17.18.26.008.AK.PS05..BHR due to no 2020.214.17.18.26.008.AK.PS05..BHT\n",
      "rm 2020.214.17.16.40.000.AV.AMKA..BHR due to no 2020.214.17.16.40.000.AV.AMKA..BHT\n",
      "rm 2020.214.17.18.36.000.TA.H25L..BHR due to no 2020.214.17.18.36.000.TA.H25L..BHT\n",
      "rm 2020.214.17.18.21.000.AV.RED..BHR due to no 2020.214.17.18.21.000.AV.RED..BHT\n",
      "rm 2020.214.17.18.19.000.AV.AUSB..BHR due to no 2020.214.17.18.19.000.AV.AUSB..BHT\n",
      "rm 2020.214.17.19.05.008.AK.BESE..BHR due to no 2020.214.17.19.05.008.AK.BESE..BHT\n",
      "rm 2020.214.17.18.19.000.AV.AUNO..BHR due to no 2020.214.17.18.19.000.AV.AUNO..BHT\n",
      "rm 2020.214.17.18.46.008.AK.PTPK..BHR due to no 2020.214.17.18.46.008.AK.PTPK..BHT\n",
      "rm 2020.214.17.18.48.008.AK.YAH..BHR due to no 2020.214.17.18.48.008.AK.YAH..BHT\n",
      "rm 2020.214.17.18.29.000.AK.TOLK.01.BHR due to no 2020.214.17.18.29.000.AK.TOLK.01.BHT\n",
      "rm 2020.214.17.18.31.008.AK.PS01..BHR due to no 2020.214.17.18.31.008.AK.PS01..BHT\n",
      "rm 2020.214.17.18.38.008.AK.PS11..BHR due to no 2020.214.17.18.38.008.AK.PS11..BHT\n",
      "rm 2020.214.17.18.19.000.AV.AU22..BHR due to no 2020.214.17.18.19.000.AV.AU22..BHT\n",
      "rm 2020.214.17.18.19.000.AV.AUSS..BHR due to no 2020.214.17.18.19.000.AV.AUSS..BHT\n",
      "rm 2020.214.17.18.34.000.IM.IL31..BHR due to no 2020.214.17.18.34.000.IM.IL31..BHT\n",
      "rm 2020.214.17.18.19.000.AV.AUJA..BHR due to no 2020.214.17.18.19.000.AV.AUJA..BHT\n",
      "rm 2020.214.17.18.41.008.AK.RAG..BHR due to no 2020.214.17.18.41.008.AK.RAG..BHT\n",
      "rm 2020.214.17.18.21.000.AV.RDSO..BHR due to no 2020.214.17.18.21.000.AV.RDSO..BHT\n",
      "rm 2020.214.17.18.53.008.AK.BCP..BHR due to no 2020.214.17.18.53.008.AK.BCP..BHT\n",
      "rm 2020.214.17.18.18.000.AK.Q19K..BHR due to no 2020.214.17.18.18.000.AK.Q19K..BHT\n"
     ]
    }
   ],
   "source": [
    "align_R_to_T(dirname='/home/sheng/zscd/previous/20200801/sac1', \n",
    "             fnames='*.BHR')\n",
    "\n",
    "os.chdir(init_dir)"
   ]
  }
 ],
 "metadata": {
  "kernelspec": {
   "display_name": "Python 3 (ipykernel)",
   "language": "python",
   "name": "python3"
  },
  "language_info": {
   "codemirror_mode": {
    "name": "ipython",
    "version": 3
   },
   "file_extension": ".py",
   "mimetype": "text/x-python",
   "name": "python",
   "nbconvert_exporter": "python",
   "pygments_lexer": "ipython3",
   "version": "3.7.12"
  }
 },
 "nbformat": 4,
 "nbformat_minor": 5
}
